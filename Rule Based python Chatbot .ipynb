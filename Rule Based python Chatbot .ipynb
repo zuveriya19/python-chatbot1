{
 "cells": [
  {
   "cell_type": "code",
   "execution_count": 1,
   "id": "a0352548",
   "metadata": {},
   "outputs": [],
   "source": [
    "#building rule-based chatbot\n"
   ]
  },
  {
   "cell_type": "code",
   "execution_count": 2,
   "id": "5daacff2",
   "metadata": {},
   "outputs": [],
   "source": [
    "import nltk\n",
    "from nltk.chat.util import Chat,reflections"
   ]
  },
  {
   "cell_type": "code",
   "execution_count": 3,
   "id": "37f2891b",
   "metadata": {},
   "outputs": [
    {
     "name": "stdout",
     "output_type": "stream",
     "text": [
      "<class 'nltk.chat.util.Chat'>\n"
     ]
    }
   ],
   "source": [
    "print(Chat)"
   ]
  },
  {
   "cell_type": "code",
   "execution_count": 5,
   "id": "7ac9f48b",
   "metadata": {},
   "outputs": [
    {
     "data": {
      "text/plain": [
       "{'i am': 'you are',\n",
       " 'i was': 'you were',\n",
       " 'i': 'you',\n",
       " \"i'm\": 'you are',\n",
       " \"i'd\": 'you would',\n",
       " \"i've\": 'you have',\n",
       " \"i'll\": 'you will',\n",
       " 'my': 'your',\n",
       " 'you are': 'I am',\n",
       " 'you were': 'I was',\n",
       " \"you've\": 'I have',\n",
       " \"you'll\": 'I will',\n",
       " 'your': 'my',\n",
       " 'yours': 'mine',\n",
       " 'you': 'me',\n",
       " 'me': 'you'}"
      ]
     },
     "execution_count": 5,
     "metadata": {},
     "output_type": "execute_result"
    }
   ],
   "source": [
    "reflections   #user input left ,value output ob bots"
   ]
  },
  {
   "cell_type": "code",
   "execution_count": 12,
   "id": "82cf7cde",
   "metadata": {},
   "outputs": [],
   "source": [
    "#create rules to train bot\n",
    "set_pairs =[\n",
    "    [\n",
    "        r\"my name is (.*)\",\n",
    "        [\"heeloo %1,How are you today? \",]\n",
    "    ],\n",
    "    [\n",
    "        r\"hi|hello\",\n",
    "        [\"hello\",\"hey there\",]\n",
    "    ],\n",
    "    [\n",
    "        r\"what is your name?\",\n",
    "        [\"you can call me a rexa!\",]\n",
    "    ],\n",
    "    [\n",
    "        r\"how are you?\",\n",
    "        [ \"i am fine ,thankyou! How can I help you?\",]\n",
    "    ],\n",
    "    [\n",
    "        r\"I am fine thankyou\",\n",
    "        [\"great to hear that , how can i help you?\",]\n",
    "    ],\n",
    "    [\n",
    "        r\"how can i help you?\",\n",
    "        [\"i am looking for online guides and courses to learn data science ,can you suggest?\",]\n",
    "    ],\n",
    "    [\n",
    "        r\" i'm (.*)doing good\",\n",
    "        [\"That's a great to hear\",\"How can i help you? :)\",]\n",
    "    ],\n",
    "    [\n",
    "        r\"i am looking for online guides and courses to learn data science can you suggest?\",\n",
    "        [\"coding Ninjas is a great option to learn data science .You can check their website\",]\n",
    "    ],\n",
    "    [\n",
    "        r\"thanks for the suggestion ,do they have great authors and instructors?\",\n",
    "        [\"Yes,they have the world class best authors,that is their strength;)\",]\n",
    "        \n",
    "    ],\n",
    "    [\n",
    "        r\"(.*) thank you so much ,that was helpful\",\n",
    "        [\"i am happy to help\",\"no problem ,you're welcome!\",]\n",
    "    ],\n",
    "    [\n",
    "        r\"quit\",\n",
    "        [\"Bye ,take care .See u soon :)\",\"It was nice talking to you.See u soon :)\"]\n",
    "    ],\n",
    "\n",
    "]"
   ]
  },
  {
   "cell_type": "code",
   "execution_count": 14,
   "id": "a574d2e8",
   "metadata": {},
   "outputs": [
    {
     "name": "stdout",
     "output_type": "stream",
     "text": [
      "hi i am rule-based chatbot! What can I help you with?\n"
     ]
    }
   ],
   "source": [
    "def chatbot():\n",
    "    print(\"hi i am rule-based chatbot! What can I help you with?\")\n",
    "chatbot()"
   ]
  },
  {
   "cell_type": "code",
   "execution_count": 16,
   "id": "088ce452",
   "metadata": {},
   "outputs": [
    {
     "name": "stdout",
     "output_type": "stream",
     "text": [
      "<nltk.chat.util.Chat object at 0x000001E12F89F970>\n"
     ]
    }
   ],
   "source": [
    "chat =Chat(set_pairs,reflections)\n",
    "print(chat)"
   ]
  },
  {
   "cell_type": "code",
   "execution_count": 17,
   "id": "a74113f0",
   "metadata": {},
   "outputs": [
    {
     "name": "stdout",
     "output_type": "stream",
     "text": [
      ">hi\n",
      "hey there\n",
      ">my name is Zuveriya Tamboli\n",
      "heeloo zuveriya tamboli,How are you today? \n",
      ">i am looking for a course\n",
      "None\n",
      "> i am looking for online guides and courses to learn data science can you suggest?\n",
      "None\n",
      ">i am looking for online guides and courses to learn data science can you suggest?\n",
      "coding Ninjas is a great option to learn data science .You can check their website\n",
      ">quit\n",
      "It was nice talking to you.See u soon :)\n",
      "hi i am rule-based chatbot! What can I help you with?\n"
     ]
    }
   ],
   "source": [
    "chat.converse()\n",
    "if __name__ ==\"__main__\":\n",
    "    chatbot()"
   ]
  },
  {
   "cell_type": "code",
   "execution_count": null,
   "id": "5b3eef8f",
   "metadata": {},
   "outputs": [],
   "source": [
    " "
   ]
  }
 ],
 "metadata": {
  "kernelspec": {
   "display_name": "Python 3 (ipykernel)",
   "language": "python",
   "name": "python3"
  },
  "language_info": {
   "codemirror_mode": {
    "name": "ipython",
    "version": 3
   },
   "file_extension": ".py",
   "mimetype": "text/x-python",
   "name": "python",
   "nbconvert_exporter": "python",
   "pygments_lexer": "ipython3",
   "version": "3.9.12"
  }
 },
 "nbformat": 4,
 "nbformat_minor": 5
}
